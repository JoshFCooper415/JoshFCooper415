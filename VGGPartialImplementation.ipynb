{
  "nbformat": 4,
  "nbformat_minor": 0,
  "metadata": {
    "colab": {
      "name": "VGGImplemmentation.ipynb",
      "provenance": [],
      "collapsed_sections": [],
      "authorship_tag": "ABX9TyMa/yujrTVmMaC8T22qnBvm",
      "include_colab_link": true
    },
    "kernelspec": {
      "name": "python3",
      "display_name": "Python 3"
    },
    "language_info": {
      "name": "python"
    },
    "accelerator": "GPU",
    "gpuClass": "standard"
  },
  "cells": [
    {
      "cell_type": "markdown",
      "metadata": {
        "id": "view-in-github",
        "colab_type": "text"
      },
      "source": [
        "<a href=\"https://colab.research.google.com/github/JoshFCooper415/JoshFCooper415/blob/main/VGGPartialImplementation.ipynb\" target=\"_parent\"><img src=\"https://colab.research.google.com/assets/colab-badge.svg\" alt=\"Open In Colab\"/></a>"
      ]
    },
    {
      "cell_type": "code",
      "execution_count": 1,
      "metadata": {
        "colab": {
          "base_uri": "https://localhost:8080/"
        },
        "id": "sHZPl5Et05lh",
        "outputId": "fe67b079-22f3-414e-cd14-5acdc22d760e"
      },
      "outputs": [
        {
          "output_type": "stream",
          "name": "stdout",
          "text": [
            "Found GPU at: /device:GPU:0\n"
          ]
        }
      ],
      "source": [
        "import numpy as np\n",
        "import tensorflow as tf\n",
        "from tensorflow.keras.layers import Input, Conv2D\n",
        "from tensorflow.keras.layers import MaxPool2D, Flatten, Dense, Dropout\n",
        "from tensorflow.keras import Model\n",
        "device_name = tf.test.gpu_device_name()\n",
        "if device_name != '/device:GPU:0':\n",
        "  raise SystemError('GPU device not found')\n",
        "print('Found GPU at: {}'.format(device_name))"
      ]
    },
    {
      "cell_type": "code",
      "source": [
        "def cpu():\n",
        "  with tf.device('/cpu:0'):\n",
        "    random_image_cpu = tf.random.normal((100, 100, 100, 3))\n",
        "    net_cpu = tf.keras.layers.Conv2D(32, 7)(random_image_cpu)\n",
        "    return tf.math.reduce_sum(net_cpu)\n",
        "\n",
        "def gpu():\n",
        "  with tf.device('/device:GPU:0'):\n",
        "    random_image_gpu = tf.random.normal((100, 100, 100, 3))\n",
        "    net_gpu = tf.keras.layers.Conv2D(32, 7)(random_image_gpu)\n",
        "    return tf.math.reduce_sum(net_gpu)"
      ],
      "metadata": {
        "id": "WXFtzSV51RAH"
      },
      "execution_count": 3,
      "outputs": []
    },
    {
      "cell_type": "code",
      "source": [
        "data = tf.keras.datasets.cifar100\n",
        "\n",
        "(x_train, y_train), (x_test, y_test) = data.load_data()\n",
        "x_train, x_test = x_train / 255.0, x_test / 255.0\n",
        "# input  \n",
        "input = Input(shape =(32,32, 3))"
      ],
      "metadata": {
        "id": "QXEMT-CN1SPi"
      },
      "execution_count": 4,
      "outputs": []
    },
    {
      "cell_type": "code",
      "source": [
        "from tensorflow.python.ops.gen_array_ops import Reshape\n",
        "with tf.device('/device:GPU:0'):\n",
        "      #block 1\n",
        "      x = Conv2D (filters =64, kernel_size =3, padding ='same', activation='relu')(input)\n",
        "      x = MaxPool2D(pool_size =2, strides =2, padding ='same')(x)\n",
        "      x = Dropout(.2)(x)\n",
        "     #block 2\n",
        "      x = Conv2D (filters =128, kernel_size =3, padding ='same', activation='relu')(x)\n",
        "      x = MaxPool2D(pool_size =2, strides =2, padding ='same')(x)\n",
        "      x = Dropout(.2)(x)\n",
        "    #block 2\n",
        "    #  x = Conv2D (filters =256, kernel_size =3, padding ='same', activation='relu')(x) \n",
        "     # x = Conv2D (filters =256, kernel_size =3, padding ='same', activation='relu')(x) \n",
        "     # x = MaxPool2D(pool_size =2, strides =2, padding ='same')(x)\n",
        "      #x = Dropout(.2)(x)\n",
        "      #block 3\n",
        "      #x = Conv2D (filters =512, kernel_size =3, padding ='same', activation='relu')(x)\n",
        "      #x = Conv2D (filters =512, kernel_size =3, padding ='same', activation='relu')(x)\n",
        "      #x = MaxPool2D(pool_size =2, strides =2, padding ='same')(x)\n",
        "\n",
        "    #block 4\n",
        "      #x = Conv2D (filters =512, kernel_size =3, padding ='same', activation='relu')(x)\n",
        "      #x = Conv2D (filters =512, kernel_size =3, padding ='same', activation='relu')(x)\n",
        "      #x = MaxPool2D(pool_size =2, strides =2, padding ='same')(x)\n",
        "    #fully connected layers\n",
        "      x = Flatten()(x)\n",
        "      x = Dense(units = 4096, activation ='relu')(x)\n",
        "      x = Dropout(.5)(x) \n",
        "      x = Dense(units = 4096, activation ='relu')(x)\n",
        "      x = Dropout(.5)(x)\n",
        "      output = Dense(units = 100, activation ='softmax')(x)\n",
        "      \n",
        "      model = Model (inputs=input, outputs =output)\n",
        "      model.summary()\n",
        "      loss_fn = tf.keras.losses.SparseCategoricalCrossentropy(from_logits=True)\n",
        "      loss_fn(y_train[:1], output)\n",
        "      model.compile(optimizer='adam',\n",
        "              loss=loss_fn,\n",
        "              metrics=['accuracy'])"
      ],
      "metadata": {
        "colab": {
          "base_uri": "https://localhost:8080/"
        },
        "id": "6fkSauWY1gRB",
        "outputId": "32eb4941-b896-44b8-857d-7aff6687c693"
      },
      "execution_count": 5,
      "outputs": [
        {
          "output_type": "stream",
          "name": "stdout",
          "text": [
            "Model: \"model\"\n",
            "_________________________________________________________________\n",
            " Layer (type)                Output Shape              Param #   \n",
            "=================================================================\n",
            " input_1 (InputLayer)        [(None, 32, 32, 3)]       0         \n",
            "                                                                 \n",
            " conv2d_1 (Conv2D)           (None, 32, 32, 64)        1792      \n",
            "                                                                 \n",
            " max_pooling2d (MaxPooling2D  (None, 16, 16, 64)       0         \n",
            " )                                                               \n",
            "                                                                 \n",
            " dropout (Dropout)           (None, 16, 16, 64)        0         \n",
            "                                                                 \n",
            " conv2d_2 (Conv2D)           (None, 16, 16, 128)       73856     \n",
            "                                                                 \n",
            " max_pooling2d_1 (MaxPooling  (None, 8, 8, 128)        0         \n",
            " 2D)                                                             \n",
            "                                                                 \n",
            " dropout_1 (Dropout)         (None, 8, 8, 128)         0         \n",
            "                                                                 \n",
            " flatten (Flatten)           (None, 8192)              0         \n",
            "                                                                 \n",
            " dense (Dense)               (None, 4096)              33558528  \n",
            "                                                                 \n",
            " dropout_2 (Dropout)         (None, 4096)              0         \n",
            "                                                                 \n",
            " dense_1 (Dense)             (None, 4096)              16781312  \n",
            "                                                                 \n",
            " dropout_3 (Dropout)         (None, 4096)              0         \n",
            "                                                                 \n",
            " dense_2 (Dense)             (None, 100)               409700    \n",
            "                                                                 \n",
            "=================================================================\n",
            "Total params: 50,825,188\n",
            "Trainable params: 50,825,188\n",
            "Non-trainable params: 0\n",
            "_________________________________________________________________\n"
          ]
        }
      ]
    },
    {
      "cell_type": "code",
      "source": [
        "model.fit(x_train, y_train, epochs=75, batch_size=900, validation_split=0.2)\n",
        "model.evaluate(x_test,  y_test, verbose=2)"
      ],
      "metadata": {
        "colab": {
          "base_uri": "https://localhost:8080/"
        },
        "id": "x52YAmNU9k32",
        "outputId": "e3413763-cf74-4cc3-e743-e37a37cc902d"
      },
      "execution_count": 6,
      "outputs": [
        {
          "output_type": "stream",
          "name": "stdout",
          "text": [
            "Epoch 1/75\n"
          ]
        },
        {
          "output_type": "stream",
          "name": "stderr",
          "text": [
            "/usr/local/lib/python3.7/dist-packages/tensorflow/python/util/dispatch.py:1082: UserWarning: \"`sparse_categorical_crossentropy` received `from_logits=True`, but the `output` argument was produced by a sigmoid or softmax activation and thus does not represent logits. Was this intended?\"\n",
            "  return dispatch_target(*args, **kwargs)\n"
          ]
        },
        {
          "output_type": "stream",
          "name": "stdout",
          "text": [
            "45/45 [==============================] - 10s 147ms/step - loss: 4.5490 - accuracy: 0.0190 - val_loss: 4.1963 - val_accuracy: 0.0491\n",
            "Epoch 2/75\n",
            "45/45 [==============================] - 6s 131ms/step - loss: 4.0530 - accuracy: 0.0738 - val_loss: 3.8350 - val_accuracy: 0.1137\n",
            "Epoch 3/75\n",
            "45/45 [==============================] - 6s 132ms/step - loss: 3.6711 - accuracy: 0.1344 - val_loss: 3.4419 - val_accuracy: 0.1785\n",
            "Epoch 4/75\n",
            "45/45 [==============================] - 6s 132ms/step - loss: 3.3770 - accuracy: 0.1839 - val_loss: 3.1930 - val_accuracy: 0.2236\n",
            "Epoch 5/75\n",
            "45/45 [==============================] - 6s 136ms/step - loss: 3.1500 - accuracy: 0.2273 - val_loss: 2.9975 - val_accuracy: 0.2646\n",
            "Epoch 6/75\n",
            "45/45 [==============================] - 6s 134ms/step - loss: 2.9577 - accuracy: 0.2625 - val_loss: 2.8772 - val_accuracy: 0.2823\n",
            "Epoch 7/75\n",
            "45/45 [==============================] - 6s 134ms/step - loss: 2.7992 - accuracy: 0.2950 - val_loss: 2.7478 - val_accuracy: 0.3138\n",
            "Epoch 8/75\n",
            "45/45 [==============================] - 6s 135ms/step - loss: 2.6149 - accuracy: 0.3327 - val_loss: 2.6570 - val_accuracy: 0.3284\n",
            "Epoch 9/75\n",
            "45/45 [==============================] - 6s 135ms/step - loss: 2.4619 - accuracy: 0.3636 - val_loss: 2.5570 - val_accuracy: 0.3595\n",
            "Epoch 10/75\n",
            "45/45 [==============================] - 6s 135ms/step - loss: 2.3102 - accuracy: 0.3936 - val_loss: 2.5049 - val_accuracy: 0.3650\n",
            "Epoch 11/75\n",
            "45/45 [==============================] - 6s 134ms/step - loss: 2.1660 - accuracy: 0.4266 - val_loss: 2.4251 - val_accuracy: 0.3871\n",
            "Epoch 12/75\n",
            "45/45 [==============================] - 6s 133ms/step - loss: 1.9850 - accuracy: 0.4697 - val_loss: 2.4034 - val_accuracy: 0.3917\n",
            "Epoch 13/75\n",
            "45/45 [==============================] - 6s 133ms/step - loss: 1.8521 - accuracy: 0.4950 - val_loss: 2.4037 - val_accuracy: 0.3938\n",
            "Epoch 14/75\n",
            "45/45 [==============================] - 6s 133ms/step - loss: 1.7040 - accuracy: 0.5336 - val_loss: 2.3876 - val_accuracy: 0.4037\n",
            "Epoch 15/75\n",
            "45/45 [==============================] - 6s 133ms/step - loss: 1.5635 - accuracy: 0.5633 - val_loss: 2.3843 - val_accuracy: 0.4077\n",
            "Epoch 16/75\n",
            "45/45 [==============================] - 6s 132ms/step - loss: 1.4141 - accuracy: 0.6034 - val_loss: 2.3949 - val_accuracy: 0.4129\n",
            "Epoch 17/75\n",
            "45/45 [==============================] - 6s 133ms/step - loss: 1.2989 - accuracy: 0.6313 - val_loss: 2.4279 - val_accuracy: 0.4110\n",
            "Epoch 18/75\n",
            "45/45 [==============================] - 6s 136ms/step - loss: 1.1895 - accuracy: 0.6597 - val_loss: 2.4698 - val_accuracy: 0.4144\n",
            "Epoch 19/75\n",
            "45/45 [==============================] - 6s 134ms/step - loss: 1.0653 - accuracy: 0.6885 - val_loss: 2.4738 - val_accuracy: 0.4161\n",
            "Epoch 20/75\n",
            "45/45 [==============================] - 6s 134ms/step - loss: 0.9737 - accuracy: 0.7150 - val_loss: 2.5528 - val_accuracy: 0.4136\n",
            "Epoch 21/75\n",
            "45/45 [==============================] - 6s 133ms/step - loss: 0.8796 - accuracy: 0.7377 - val_loss: 2.5640 - val_accuracy: 0.4188\n",
            "Epoch 22/75\n",
            "45/45 [==============================] - 6s 135ms/step - loss: 0.8038 - accuracy: 0.7616 - val_loss: 2.5939 - val_accuracy: 0.4258\n",
            "Epoch 23/75\n",
            "45/45 [==============================] - 6s 134ms/step - loss: 0.7461 - accuracy: 0.7791 - val_loss: 2.6760 - val_accuracy: 0.4185\n",
            "Epoch 24/75\n",
            "45/45 [==============================] - 6s 134ms/step - loss: 0.6791 - accuracy: 0.7946 - val_loss: 2.6286 - val_accuracy: 0.4213\n",
            "Epoch 25/75\n",
            "45/45 [==============================] - 6s 134ms/step - loss: 0.6363 - accuracy: 0.8069 - val_loss: 2.7419 - val_accuracy: 0.4178\n",
            "Epoch 26/75\n",
            "45/45 [==============================] - 6s 134ms/step - loss: 0.5876 - accuracy: 0.8218 - val_loss: 2.8026 - val_accuracy: 0.4180\n",
            "Epoch 27/75\n",
            "45/45 [==============================] - 6s 134ms/step - loss: 0.5370 - accuracy: 0.8391 - val_loss: 2.8435 - val_accuracy: 0.4186\n",
            "Epoch 28/75\n",
            "45/45 [==============================] - 6s 134ms/step - loss: 0.4985 - accuracy: 0.8475 - val_loss: 2.8181 - val_accuracy: 0.4246\n",
            "Epoch 29/75\n",
            "45/45 [==============================] - 6s 134ms/step - loss: 0.4676 - accuracy: 0.8572 - val_loss: 2.8792 - val_accuracy: 0.4253\n",
            "Epoch 30/75\n",
            "45/45 [==============================] - 6s 133ms/step - loss: 0.4516 - accuracy: 0.8612 - val_loss: 2.8320 - val_accuracy: 0.4241\n",
            "Epoch 31/75\n",
            "45/45 [==============================] - 6s 133ms/step - loss: 0.4162 - accuracy: 0.8724 - val_loss: 2.9380 - val_accuracy: 0.4250\n",
            "Epoch 32/75\n",
            "45/45 [==============================] - 6s 135ms/step - loss: 0.3896 - accuracy: 0.8803 - val_loss: 2.9416 - val_accuracy: 0.4256\n",
            "Epoch 33/75\n",
            "45/45 [==============================] - 6s 133ms/step - loss: 0.3757 - accuracy: 0.8854 - val_loss: 2.9314 - val_accuracy: 0.4247\n",
            "Epoch 34/75\n",
            "45/45 [==============================] - 6s 132ms/step - loss: 0.3391 - accuracy: 0.8963 - val_loss: 2.9761 - val_accuracy: 0.4258\n",
            "Epoch 35/75\n",
            "45/45 [==============================] - 6s 132ms/step - loss: 0.3297 - accuracy: 0.8988 - val_loss: 3.0607 - val_accuracy: 0.4226\n",
            "Epoch 36/75\n",
            "45/45 [==============================] - 6s 133ms/step - loss: 0.3232 - accuracy: 0.8991 - val_loss: 2.9990 - val_accuracy: 0.4251\n",
            "Epoch 37/75\n",
            "45/45 [==============================] - 6s 133ms/step - loss: 0.3122 - accuracy: 0.9042 - val_loss: 3.0461 - val_accuracy: 0.4222\n",
            "Epoch 38/75\n",
            "45/45 [==============================] - 6s 133ms/step - loss: 0.2956 - accuracy: 0.9083 - val_loss: 3.0105 - val_accuracy: 0.4244\n",
            "Epoch 39/75\n",
            "45/45 [==============================] - 6s 134ms/step - loss: 0.2799 - accuracy: 0.9132 - val_loss: 3.0696 - val_accuracy: 0.4280\n",
            "Epoch 40/75\n",
            "45/45 [==============================] - 6s 133ms/step - loss: 0.2695 - accuracy: 0.9171 - val_loss: 3.1166 - val_accuracy: 0.4290\n",
            "Epoch 41/75\n",
            "45/45 [==============================] - 6s 134ms/step - loss: 0.2621 - accuracy: 0.9186 - val_loss: 3.1647 - val_accuracy: 0.4215\n",
            "Epoch 42/75\n",
            "45/45 [==============================] - 6s 134ms/step - loss: 0.2549 - accuracy: 0.9219 - val_loss: 3.1372 - val_accuracy: 0.4199\n",
            "Epoch 43/75\n",
            "45/45 [==============================] - 6s 133ms/step - loss: 0.2395 - accuracy: 0.9255 - val_loss: 3.1715 - val_accuracy: 0.4237\n",
            "Epoch 44/75\n",
            "45/45 [==============================] - 6s 133ms/step - loss: 0.2338 - accuracy: 0.9265 - val_loss: 3.1837 - val_accuracy: 0.4236\n",
            "Epoch 45/75\n",
            "45/45 [==============================] - 6s 133ms/step - loss: 0.2243 - accuracy: 0.9310 - val_loss: 3.2089 - val_accuracy: 0.4243\n",
            "Epoch 46/75\n",
            "45/45 [==============================] - 6s 133ms/step - loss: 0.2162 - accuracy: 0.9331 - val_loss: 3.2158 - val_accuracy: 0.4262\n",
            "Epoch 47/75\n",
            "45/45 [==============================] - 6s 133ms/step - loss: 0.2267 - accuracy: 0.9291 - val_loss: 3.1734 - val_accuracy: 0.4258\n",
            "Epoch 48/75\n",
            "45/45 [==============================] - 6s 132ms/step - loss: 0.2126 - accuracy: 0.9345 - val_loss: 3.2409 - val_accuracy: 0.4275\n",
            "Epoch 49/75\n",
            "45/45 [==============================] - 6s 133ms/step - loss: 0.2050 - accuracy: 0.9379 - val_loss: 3.2640 - val_accuracy: 0.4265\n",
            "Epoch 50/75\n",
            "45/45 [==============================] - 6s 136ms/step - loss: 0.2023 - accuracy: 0.9387 - val_loss: 3.1967 - val_accuracy: 0.4256\n",
            "Epoch 51/75\n",
            "45/45 [==============================] - 6s 133ms/step - loss: 0.1965 - accuracy: 0.9412 - val_loss: 3.2474 - val_accuracy: 0.4254\n",
            "Epoch 52/75\n",
            "45/45 [==============================] - 6s 134ms/step - loss: 0.1856 - accuracy: 0.9416 - val_loss: 3.2565 - val_accuracy: 0.4239\n",
            "Epoch 53/75\n",
            "45/45 [==============================] - 6s 133ms/step - loss: 0.1875 - accuracy: 0.9438 - val_loss: 3.2929 - val_accuracy: 0.4229\n",
            "Epoch 54/75\n",
            "45/45 [==============================] - 6s 134ms/step - loss: 0.1831 - accuracy: 0.9440 - val_loss: 3.3544 - val_accuracy: 0.4239\n",
            "Epoch 55/75\n",
            "45/45 [==============================] - 6s 134ms/step - loss: 0.1831 - accuracy: 0.9437 - val_loss: 3.3153 - val_accuracy: 0.4189\n",
            "Epoch 56/75\n",
            "45/45 [==============================] - 6s 134ms/step - loss: 0.1766 - accuracy: 0.9462 - val_loss: 3.2847 - val_accuracy: 0.4198\n",
            "Epoch 57/75\n",
            "45/45 [==============================] - 6s 132ms/step - loss: 0.1729 - accuracy: 0.9456 - val_loss: 3.3393 - val_accuracy: 0.4243\n",
            "Epoch 58/75\n",
            "45/45 [==============================] - 6s 133ms/step - loss: 0.1638 - accuracy: 0.9485 - val_loss: 3.4183 - val_accuracy: 0.4201\n",
            "Epoch 59/75\n",
            "45/45 [==============================] - 6s 135ms/step - loss: 0.1677 - accuracy: 0.9491 - val_loss: 3.3260 - val_accuracy: 0.4258\n",
            "Epoch 60/75\n",
            "45/45 [==============================] - 6s 132ms/step - loss: 0.1665 - accuracy: 0.9488 - val_loss: 3.3045 - val_accuracy: 0.4262\n",
            "Epoch 61/75\n",
            "45/45 [==============================] - 6s 133ms/step - loss: 0.1624 - accuracy: 0.9498 - val_loss: 3.3046 - val_accuracy: 0.4220\n",
            "Epoch 62/75\n",
            "45/45 [==============================] - 6s 134ms/step - loss: 0.1618 - accuracy: 0.9507 - val_loss: 3.3459 - val_accuracy: 0.4228\n",
            "Epoch 63/75\n",
            "45/45 [==============================] - 6s 133ms/step - loss: 0.1544 - accuracy: 0.9517 - val_loss: 3.3468 - val_accuracy: 0.4247\n",
            "Epoch 64/75\n",
            "45/45 [==============================] - 6s 134ms/step - loss: 0.1495 - accuracy: 0.9542 - val_loss: 3.3512 - val_accuracy: 0.4223\n",
            "Epoch 65/75\n",
            "45/45 [==============================] - 6s 134ms/step - loss: 0.1491 - accuracy: 0.9538 - val_loss: 3.3881 - val_accuracy: 0.4235\n",
            "Epoch 66/75\n",
            "45/45 [==============================] - 6s 133ms/step - loss: 0.1432 - accuracy: 0.9565 - val_loss: 3.3989 - val_accuracy: 0.4228\n",
            "Epoch 67/75\n",
            "45/45 [==============================] - 6s 134ms/step - loss: 0.1454 - accuracy: 0.9556 - val_loss: 3.3990 - val_accuracy: 0.4214\n",
            "Epoch 68/75\n",
            "45/45 [==============================] - 6s 133ms/step - loss: 0.1448 - accuracy: 0.9556 - val_loss: 3.4802 - val_accuracy: 0.4163\n",
            "Epoch 69/75\n",
            "45/45 [==============================] - 6s 134ms/step - loss: 0.1385 - accuracy: 0.9568 - val_loss: 3.4022 - val_accuracy: 0.4247\n",
            "Epoch 70/75\n",
            "45/45 [==============================] - 6s 133ms/step - loss: 0.1349 - accuracy: 0.9586 - val_loss: 3.4506 - val_accuracy: 0.4204\n",
            "Epoch 71/75\n",
            "45/45 [==============================] - 6s 134ms/step - loss: 0.1426 - accuracy: 0.9560 - val_loss: 3.4802 - val_accuracy: 0.4178\n",
            "Epoch 72/75\n",
            "45/45 [==============================] - 6s 134ms/step - loss: 0.1364 - accuracy: 0.9574 - val_loss: 3.4503 - val_accuracy: 0.4246\n",
            "Epoch 73/75\n",
            "45/45 [==============================] - 6s 133ms/step - loss: 0.1384 - accuracy: 0.9578 - val_loss: 3.4850 - val_accuracy: 0.4208\n",
            "Epoch 74/75\n",
            "45/45 [==============================] - 6s 134ms/step - loss: 0.1351 - accuracy: 0.9588 - val_loss: 3.4703 - val_accuracy: 0.4235\n",
            "Epoch 75/75\n",
            "45/45 [==============================] - 6s 133ms/step - loss: 0.1381 - accuracy: 0.9576 - val_loss: 3.4168 - val_accuracy: 0.4183\n",
            "313/313 - 1s - loss: 3.3541 - accuracy: 0.4253 - 1s/epoch - 4ms/step\n"
          ]
        },
        {
          "output_type": "execute_result",
          "data": {
            "text/plain": [
              "[3.3540894985198975, 0.4253000020980835]"
            ]
          },
          "metadata": {},
          "execution_count": 6
        }
      ]
    }
  ]
}