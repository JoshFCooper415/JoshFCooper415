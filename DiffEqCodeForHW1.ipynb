{
  "nbformat": 4,
  "nbformat_minor": 0,
  "metadata": {
    "colab": {
      "name": "DiffEqCodeForHW1.ipynb",
      "provenance": [],
      "collapsed_sections": [],
      "authorship_tag": "ABX9TyMWQCkY9CoRYKjSMLtlQvdW",
      "include_colab_link": true
    },
    "kernelspec": {
      "name": "python3",
      "display_name": "Python 3"
    },
    "language_info": {
      "name": "python"
    }
  },
  "cells": [
    {
      "cell_type": "markdown",
      "metadata": {
        "id": "view-in-github",
        "colab_type": "text"
      },
      "source": [
        "<a href=\"https://colab.research.google.com/github/JoshFCooper415/JoshFCooper415/blob/main/DiffEqCodeForHW1.ipynb\" target=\"_parent\"><img src=\"https://colab.research.google.com/assets/colab-badge.svg\" alt=\"Open In Colab\"/></a>"
      ]
    },
    {
      "cell_type": "code",
      "execution_count": 44,
      "metadata": {
        "id": "31lRaKs2wHlU"
      },
      "outputs": [],
      "source": [
        "import math\n",
        "import numpy as np\n",
        "\n",
        "import matplotlib.pyplot as plt\n",
        "\n",
        "def func( x, y ):\n",
        "    return (y + math.exp(-x))\n"
      ]
    },
    {
      "cell_type": "code",
      "source": [
        "x0 = 0\n",
        "y0 = 0\n",
        "h = 0.1\n",
        " \n",
        "# Value of x at which we need approximation\n",
        "x = 0.1"
      ],
      "metadata": {
        "id": "FsL0UMQTwk23"
      },
      "execution_count": 21,
      "outputs": []
    },
    {
      "cell_type": "code",
      "source": [
        "    \n",
        "# Function for euler formula\n",
        "def euler( x0, y, h, x ):\n",
        "    temp = -0\n",
        " \n",
        "    # Iterating till the point at which we\n",
        "    # need approximation\n",
        "    while x0 < x:\n",
        "        temp = y\n",
        "        y = y + h * func(x0, y)\n",
        "        x0 = x0 + h\n",
        " \n",
        "    # Printing approximation\n",
        "    print(\"Approximate solution at x = \", x, \" is \", \"%.6f\"% y)\n",
        "    return (y)"
      ],
      "metadata": {
        "id": "myhSZyV7wnIo"
      },
      "execution_count": 30,
      "outputs": []
    },
    {
      "cell_type": "code",
      "source": [
        "i = 0\n",
        "arr = []\n",
        "arr2 = []\n",
        "arr3 = []\n",
        "arr4 = []\n",
        "while i < 1:\n",
        "  arr.append(euler(x0, y0, h, i))\n",
        "  i += h\n",
        "i = 0\n",
        "while i < 1:\n",
        "  arr2.append(euler(x0, y0, h/2, i))\n",
        "  i += h/2\n",
        "i = 0\n",
        "while i < 1:\n",
        "  arr3.append(euler(x0, y0, h/4, i))\n",
        "  i += h/4\n",
        "i = 0\n",
        "while i < 1:\n",
        "  arr4.append(math.exp(i)/2 -math.exp(-i)/2)\n",
        "  i += h/4\n",
        "plt.plot(arr)\n",
        "plt.plot(arr2)\n",
        "plt.plot(arr3)\n",
        "plt.plot(arr4)\n",
        "plt.ylabel('some numbers')\n",
        "plt.show()\n"
      ],
      "metadata": {
        "colab": {
          "base_uri": "https://localhost:8080/",
          "height": 1000
        },
        "id": "aMvDoWHRwuDN",
        "outputId": "5252eb5c-5f32-4c18-a2a8-426df44f3164"
      },
      "execution_count": 49,
      "outputs": [
        {
          "output_type": "stream",
          "name": "stdout",
          "text": [
            "Approximate solution at x =  0  is  0.000000\n",
            "Approximate solution at x =  0.1  is  0.100000\n",
            "Approximate solution at x =  0.2  is  0.200484\n",
            "Approximate solution at x =  0.30000000000000004  is  0.302405\n",
            "Approximate solution at x =  0.4  is  0.406728\n",
            "Approximate solution at x =  0.5  is  0.514432\n",
            "Approximate solution at x =  0.6  is  0.626529\n",
            "Approximate solution at x =  0.7  is  0.744063\n",
            "Approximate solution at x =  0.7999999999999999  is  0.868127\n",
            "Approximate solution at x =  0.8999999999999999  is  0.999873\n",
            "Approximate solution at x =  0.9999999999999999  is  1.140517\n",
            "Approximate solution at x =  0  is  0.000000\n",
            "Approximate solution at x =  0.05  is  0.050000\n",
            "Approximate solution at x =  0.1  is  0.100061\n",
            "Approximate solution at x =  0.15000000000000002  is  0.150306\n",
            "Approximate solution at x =  0.2  is  0.200857\n",
            "Approximate solution at x =  0.25  is  0.251837\n",
            "Approximate solution at x =  0.3  is  0.303368\n",
            "Approximate solution at x =  0.35  is  0.355578\n",
            "Approximate solution at x =  0.39999999999999997  is  0.408591\n",
            "Approximate solution at x =  0.44999999999999996  is  0.462537\n",
            "Approximate solution at x =  0.49999999999999994  is  0.517545\n",
            "Approximate solution at x =  0.5499999999999999  is  0.573749\n",
            "Approximate solution at x =  0.6  is  0.631283\n",
            "Approximate solution at x =  0.65  is  0.690288\n",
            "Approximate solution at x =  0.7000000000000001  is  0.750905\n",
            "Approximate solution at x =  0.7500000000000001  is  0.813279\n",
            "Approximate solution at x =  0.8000000000000002  is  0.877562\n",
            "Approximate solution at x =  0.8500000000000002  is  0.943906\n",
            "Approximate solution at x =  0.9000000000000002  is  1.012472\n",
            "Approximate solution at x =  0.9500000000000003  is  1.083424\n",
            "Approximate solution at x =  0  is  0.000000\n",
            "Approximate solution at x =  0.025  is  0.025000\n",
            "Approximate solution at x =  0.05  is  0.050008\n",
            "Approximate solution at x =  0.07500000000000001  is  0.075039\n",
            "Approximate solution at x =  0.1  is  0.100108\n",
            "Approximate solution at x =  0.125  is  0.125232\n",
            "Approximate solution at x =  0.15  is  0.150425\n",
            "Approximate solution at x =  0.175  is  0.175703\n",
            "Approximate solution at x =  0.19999999999999998  is  0.201082\n",
            "Approximate solution at x =  0.22499999999999998  is  0.226578\n",
            "Approximate solution at x =  0.24999999999999997  is  0.252205\n",
            "Approximate solution at x =  0.27499999999999997  is  0.277980\n",
            "Approximate solution at x =  0.3  is  0.303919\n",
            "Approximate solution at x =  0.325  is  0.330037\n",
            "Approximate solution at x =  0.35000000000000003  is  0.356352\n",
            "Approximate solution at x =  0.37500000000000006  is  0.382878\n",
            "Approximate solution at x =  0.4000000000000001  is  0.409632\n",
            "Approximate solution at x =  0.4250000000000001  is  0.436631\n",
            "Approximate solution at x =  0.4500000000000001  is  0.463891\n",
            "Approximate solution at x =  0.47500000000000014  is  0.491429\n",
            "Approximate solution at x =  0.5000000000000001  is  0.519261\n",
            "Approximate solution at x =  0.5250000000000001  is  0.547406\n",
            "Approximate solution at x =  0.5500000000000002  is  0.575880\n",
            "Approximate solution at x =  0.5750000000000002  is  0.604701\n",
            "Approximate solution at x =  0.6000000000000002  is  0.633886\n",
            "Approximate solution at x =  0.6250000000000002  is  0.663454\n",
            "Approximate solution at x =  0.6500000000000002  is  0.693421\n",
            "Approximate solution at x =  0.6750000000000003  is  0.723808\n",
            "Approximate solution at x =  0.7000000000000003  is  0.754632\n",
            "Approximate solution at x =  0.7250000000000003  is  0.785913\n",
            "Approximate solution at x =  0.7500000000000003  is  0.817669\n",
            "Approximate solution at x =  0.7750000000000004  is  0.849919\n",
            "Approximate solution at x =  0.8000000000000004  is  0.882685\n",
            "Approximate solution at x =  0.8250000000000004  is  0.915985\n",
            "Approximate solution at x =  0.8500000000000004  is  0.949841\n",
            "Approximate solution at x =  0.8750000000000004  is  0.984272\n",
            "Approximate solution at x =  0.9000000000000005  is  1.019301\n",
            "Approximate solution at x =  0.9250000000000005  is  1.054947\n",
            "Approximate solution at x =  0.9500000000000005  is  1.091234\n",
            "Approximate solution at x =  0.9750000000000005  is  1.128184\n"
          ]
        },
        {
          "output_type": "display_data",
          "data": {
            "text/plain": [
              "<Figure size 432x288 with 1 Axes>"
            ],
            "image/png": "[encoded data removed]"
          },
          "metadata": {
            "needs_background": "light"
          }
        }
      ]
    }
  ]
}