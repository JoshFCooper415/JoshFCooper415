{
  "nbformat": 4,
  "nbformat_minor": 0,
  "metadata": {
    "colab": {
      "name": "25$ Cedh data test thing.ipynb",
      "provenance": [],
      "authorship_tag": "ABX9TyMYhOeAlVmzKmrKG/XVUBb0",
      "include_colab_link": true
    },
    "kernelspec": {
      "name": "python3",
      "display_name": "Python 3"
    },
    "language_info": {
      "name": "python"
    }
  },
  "cells": [
    {
      "cell_type": "markdown",
      "metadata": {
        "id": "view-in-github",
        "colab_type": "text"
      },
      "source": [
        "<a href=\"https://colab.research.google.com/github/JoshFCooper415/JoshFCooper415/blob/main/25%24_Cedh_Card_Data_Adding_tool.ipynb\" target=\"_parent\"><img src=\"https://colab.research.google.com/assets/colab-badge.svg\" alt=\"Open In Colab\"/></a>"
      ]
    },
    {
      "cell_type": "code",
      "source": [
        "from google.colab import auth\n",
        "auth.authenticate_user()\n",
        "\n",
        "import gspread\n",
        "from google.auth import default\n",
        "creds, _ = default()\n",
        "\n",
        "gc = gspread.authorize(creds)\n",
        "# Open our new sheet and add some data.\n",
        "worksheet = gc.open('Formula Card Calculations').sheet1"
      ],
      "metadata": {
        "id": "rTr6VyscDvR6"
      },
      "execution_count": 1,
      "outputs": []
    },
    {
      "cell_type": "code",
      "execution_count": 40,
      "metadata": {
        "colab": {
          "base_uri": "https://localhost:8080/"
        },
        "id": "eAtGByJklA_1",
        "outputId": "2d253bb9-d4f0-4bec-e4a0-ed90d015cf37"
      },
      "outputs": [
        {
          "output_type": "stream",
          "name": "stdout",
          "text": [
            "0.0\n",
            "[\"Mazemind's Tome\", '#DIV/0!', '', '', '', '', '', '', '', '', '', '', '', '', '', '', '', '', '', '', '', '', '', '', '', '', '0']\n"
          ]
        }
      ],
      "source": [
        "\n",
        "#@title test\n",
        "\n",
        "#CardName = input(\"what is the card name \")\n",
        "CardName = \"Mazemind's Tome\" #@param {type:\"string\"}\n",
        "PlayedAmout = 0 #@param {type:\"slider\", min:0, max:10, step:1}\n",
        "ResolvedAmout = 0 #@param {type:\"slider\", min:0, max:10, step:1}\n",
        "UsableAmount = 1 #@param {type:\"slider\", min:0, max:10, step:1}\n",
        "WinLossValue = 1 #@param {type:\"slider\", min:1, max:4, step:1}\n",
        "#PlayedAmout = float(input(\"How many times was it played this game? \"))\n",
        "#ResolvedAmout = float(input(\"How many times did it resolve this game? \"))\n",
        "#UsableAmount = float(input(\"How many times was it usable this game? \"))\n",
        "#WinLossValue = float(input(f'what place did the player who played {CardName} finish in? '))\n",
        "if WinLossValue == 1:\n",
        "  WinLossValueAj = 1\n",
        "if WinLossValue == 2:\n",
        "  WinLossValueAj = 0.1\n",
        "if WinLossValue == 3:\n",
        "  WinLossValueAj = 0\n",
        "if WinLossValue == 4:\n",
        "  WinLossValueAj = -0.1\n",
        "\n",
        "CalculatedValue = (((.1 * PlayedAmout + .9 * ResolvedAmout)/UsableAmount) * WinLossValueAj)\n",
        "print(CalculatedValue)\n",
        "if (CardName in worksheet.col_values(1)):\n",
        "  CardRow = (worksheet.col_values(1).index(CardName) + 1)\n",
        "  print(worksheet.row_values(CardRow))\n",
        "\n",
        "  BlankIndex = worksheet.row_values(CardRow).index('')\n",
        "\n",
        "  worksheet.update_cell(CardRow, BlankIndex+1, f'{CalculatedValue}')\n",
        "else: \n",
        "  BlankIndex = worksheet.col_values(1).index('')+1\n",
        "  worksheet.update(f'A{BlankIndex}', f'{CardName}')\n",
        "  CardRow = (worksheet.col_values(1).index(CardName) + 1)\n",
        "  print(worksheet.row_values(CardRow))\n",
        "  BlankIndex = worksheet.row_values(CardRow).index('')\n",
        "\n",
        "  worksheet.update_cell(CardRow, BlankIndex+1, f'{CalculatedValue}')"
      ]
    }
  ]
}