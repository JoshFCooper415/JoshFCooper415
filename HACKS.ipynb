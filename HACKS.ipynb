{
  "cells": [
    {
      "cell_type": "markdown",
      "metadata": {
        "id": "view-in-github",
        "colab_type": "text"
      },
      "source": [
        "<a href=\"https://colab.research.google.com/github/JoshFCooper415/JoshFCooper415/blob/main/HACKS.ipynb\" target=\"_parent\"><img src=\"https://colab.research.google.com/assets/colab-badge.svg\" alt=\"Open In Colab\"/></a>"
      ]
    },
    {
      "cell_type": "code",
      "execution_count": null,
      "metadata": {
        "id": "rTr6VyscDvR6"
      },
      "outputs": [],
      "source": [
        "from google.colab import auth\n",
        "auth.authenticate_user()\n",
        "import numpy as np\n",
        "import pandas as pd\n",
        "import gspread\n",
        "from google.auth import default\n",
        "creds, _ = default()\n",
        "from random import seed\n",
        "from random import random\n",
        "gc = gspread.authorize(creds)\n",
        "# Open our new sheet and add some data.\n",
        "worksheet = gc.open('Hackathon').sheet1\n",
        "ValidationSheet = gc.open('vthacksValidation data').sheet1\n",
        "seed(1)\n",
        "import tensorflow as tf\n",
        "from tensorflow import keras\n",
        "from tensorflow.keras import layers\n",
        "from tensorflow.keras import Input"
      ]
    },
    {
      "cell_type": "code",
      "execution_count": null,
      "metadata": {
        "id": "eAtGByJklA_1"
      },
      "outputs": [],
      "source": [
        "#rand1 = int(random() * float(100))\n",
        "#rand2 = int(random() * float(100))\n",
        "#i=960\n",
        "#b = i + 139\n",
        "#while(i < b):\n",
        "  #rand1 = rand2\n",
        "  #rand2 = int(random() * float(100))\n",
        "  #worksheet.update_cell(i, 1, f'{rand1}')\n",
        "  #worksheet.update_cell(i, 2, f'{rand2}')\n",
        "  #i = i+1\n"
      ]
    },
    {
      "cell_type": "code",
      "execution_count": null,
      "metadata": {
        "colab": {
          "base_uri": "https://localhost:8080/"
        },
        "id": "0-4rTMA4F4zf",
        "outputId": "8986d7b0-9409-44fb-dc2d-beb7b96f759f"
      },
      "outputs": [
        {
          "output_type": "stream",
          "name": "stdout",
          "text": [
            "<class 'pandas.core.frame.DataFrame'>\n",
            "RangeIndex: 6000 entries, 0 to 5999\n",
            "Data columns (total 2 columns):\n",
            " #   Column  Non-Null Count  Dtype \n",
            "---  ------  --------------  ----- \n",
            " 0   0       6000 non-null   object\n",
            " 1   1       6000 non-null   object\n",
            "dtypes: object(2)\n",
            "memory usage: 93.9+ KB\n",
            "Model: \"model_35\"\n",
            "_________________________________________________________________\n",
            " Layer (type)                Output Shape              Param #   \n",
            "=================================================================\n",
            " input_36 (InputLayer)       [(None, 1)]               0         \n",
            "                                                                 \n",
            " dense_3 (Dense)             (None, 16)                32        \n",
            "                                                                 \n",
            " dense_4 (Dense)             (None, 4)                 68        \n",
            "                                                                 \n",
            " predictions (Dense)         (None, 10)                50        \n",
            "                                                                 \n",
            "=================================================================\n",
            "Total params: 150\n",
            "Trainable params: 150\n",
            "Non-trainable params: 0\n",
            "_________________________________________________________________\n"
          ]
        }
      ],
      "source": [
        "rows = worksheet.get_all_values()\n",
        "rows = pd.DataFrame.from_records(rows)\n",
        "#print(rows)\n",
        "rows.info()\n",
        "tows = ValidationSheet.get_all_values()\n",
        "tows = pd.DataFrame.from_records(tows)\n",
        "#print(tows)\n",
        "depth = 1\n",
        "width = 1\n",
        "input_shape = int((depth))\n",
        "learning_rate=.75\n",
        "\n",
        "inputs = keras.Input(shape=input_shape)\n",
        "x = layers.Dense(4, activation=\"sigmoid\", name=\"dense_1\")(inputs)\n",
        "x = layers.Dense(8, activation=\"sigmoid\", name=\"dense_2\")(x)\n",
        "x = layers.Dense(16, activation=\"sigmoid\", name=\"dense_3\")(inputs)\n",
        "x = layers.Dense(4, activation=\"sigmoid\", name=\"dense_4\")(x)\n",
        "outputs = layers.Dense(10, activation=\"sigmoid\", name=\"predictions\")(x)\n",
        "\n",
        "model = keras.Model(inputs=inputs, outputs=outputs)\n",
        "\n",
        "model.compile(loss='KLDivergence', optimizer='adam', metrics=['accuracy'])\n",
        "\n",
        "\n",
        "\n",
        "#print(rows.shape)\n",
        "# print(\"test\")\n",
        "model.summary()"
      ]
    },
    {
      "cell_type": "code",
      "execution_count": null,
      "metadata": {
        "colab": {
          "base_uri": "https://localhost:8080/"
        },
        "id": "qs01qMjPMosH",
        "outputId": "b191d5f4-51fb-4030-f72d-95cbc31a8077"
      },
      "outputs": [
        {
          "output_type": "stream",
          "name": "stdout",
          "text": [
            "Fit model on training data\n",
            "Epoch 1/23\n",
            "1/1 [==============================] - 0s 202ms/step - loss: 3.3545 - accuracy: 0.0100 - val_loss: 3.3529 - val_accuracy: 0.0117\n",
            "Epoch 2/23\n",
            "1/1 [==============================] - 0s 78ms/step - loss: 3.3484 - accuracy: 0.0100 - val_loss: 3.3468 - val_accuracy: 0.0117\n",
            "Epoch 3/23\n",
            "1/1 [==============================] - 0s 87ms/step - loss: 3.3423 - accuracy: 0.0100 - val_loss: 3.3406 - val_accuracy: 0.0117\n",
            "Epoch 4/23\n",
            "1/1 [==============================] - 0s 60ms/step - loss: 3.3362 - accuracy: 0.0100 - val_loss: 3.3345 - val_accuracy: 0.0117\n",
            "Epoch 5/23\n",
            "1/1 [==============================] - 0s 50ms/step - loss: 3.3301 - accuracy: 0.0100 - val_loss: 3.3284 - val_accuracy: 0.0117\n",
            "Epoch 6/23\n",
            "1/1 [==============================] - 0s 61ms/step - loss: 3.3239 - accuracy: 0.0100 - val_loss: 3.3222 - val_accuracy: 0.0117\n",
            "Epoch 7/23\n",
            "1/1 [==============================] - 0s 59ms/step - loss: 3.3178 - accuracy: 0.0100 - val_loss: 3.3160 - val_accuracy: 0.0117\n",
            "Epoch 8/23\n",
            "1/1 [==============================] - 0s 66ms/step - loss: 3.3116 - accuracy: 0.0100 - val_loss: 3.3099 - val_accuracy: 0.0117\n",
            "Epoch 9/23\n",
            "1/1 [==============================] - 0s 67ms/step - loss: 3.3054 - accuracy: 0.0100 - val_loss: 3.3037 - val_accuracy: 0.0117\n",
            "Epoch 10/23\n",
            "1/1 [==============================] - 0s 54ms/step - loss: 3.2993 - accuracy: 0.0100 - val_loss: 3.2975 - val_accuracy: 0.0117\n",
            "Epoch 11/23\n",
            "1/1 [==============================] - 0s 105ms/step - loss: 3.2931 - accuracy: 0.0100 - val_loss: 3.2913 - val_accuracy: 0.0117\n",
            "Epoch 12/23\n",
            "1/1 [==============================] - 0s 55ms/step - loss: 3.2869 - accuracy: 0.0100 - val_loss: 3.2850 - val_accuracy: 0.0117\n",
            "Epoch 13/23\n",
            "1/1 [==============================] - 0s 84ms/step - loss: 3.2806 - accuracy: 0.0100 - val_loss: 3.2788 - val_accuracy: 0.0117\n",
            "Epoch 14/23\n",
            "1/1 [==============================] - 0s 53ms/step - loss: 3.2744 - accuracy: 0.0100 - val_loss: 3.2725 - val_accuracy: 0.0117\n",
            "Epoch 15/23\n",
            "1/1 [==============================] - 0s 61ms/step - loss: 3.2682 - accuracy: 0.0100 - val_loss: 3.2663 - val_accuracy: 0.0117\n",
            "Epoch 16/23\n",
            "1/1 [==============================] - 0s 60ms/step - loss: 3.2619 - accuracy: 0.0100 - val_loss: 3.2600 - val_accuracy: 0.0117\n",
            "Epoch 17/23\n",
            "1/1 [==============================] - 0s 57ms/step - loss: 3.2556 - accuracy: 0.0100 - val_loss: 3.2537 - val_accuracy: 0.0117\n",
            "Epoch 18/23\n",
            "1/1 [==============================] - 0s 118ms/step - loss: 3.2494 - accuracy: 0.0100 - val_loss: 3.2474 - val_accuracy: 0.0117\n",
            "Epoch 19/23\n",
            "1/1 [==============================] - 0s 144ms/step - loss: 3.2430 - accuracy: 0.0100 - val_loss: 3.2411 - val_accuracy: 0.0117\n",
            "Epoch 20/23\n",
            "1/1 [==============================] - 0s 167ms/step - loss: 3.2367 - accuracy: 0.0100 - val_loss: 3.2347 - val_accuracy: 0.0117\n",
            "Epoch 21/23\n",
            "1/1 [==============================] - 0s 67ms/step - loss: 3.2304 - accuracy: 0.0100 - val_loss: 3.2283 - val_accuracy: 0.0117\n",
            "Epoch 22/23\n",
            "1/1 [==============================] - 0s 88ms/step - loss: 3.2240 - accuracy: 0.0100 - val_loss: 3.2220 - val_accuracy: 0.0117\n",
            "Epoch 23/23\n",
            "1/1 [==============================] - 0s 40ms/step - loss: 3.2177 - accuracy: 0.0100 - val_loss: 3.2156 - val_accuracy: 0.0117\n"
          ]
        }
      ],
      "source": [
        "print(\"Fit model on training data\")\n",
        "history = model.fit(\n",
        "    rows[0].astype(int),\n",
        "    rows[1].astype(int),\n",
        "    batch_size=6000,\n",
        "    epochs=23,\n",
        "    # We pass some validation for\n",
        "    # monitoring validation loss and metrics\n",
        "    # at the end of each epoch\n",
        "    validation_split=0.5,\n",
        "    validation_data= (tows[0].astype(int), tows[1].astype(int))\n",
        ")"
      ]
    },
    {
      "cell_type": "code",
      "execution_count": null,
      "metadata": {
        "colab": {
          "base_uri": "https://localhost:8080/"
        },
        "id": "rWHd8Tt5vbFu",
        "outputId": "e7691fe7-7a31-4a70-ef6a-026dc6a45970"
      },
      "outputs": [
        {
          "output_type": "stream",
          "name": "stdout",
          "text": [
            "Evaluate on test data\n",
            "32/32 [==============================] - 0s 1ms/step - loss: 7.9224 - accuracy: 0.0080\n",
            "test loss, test acc: [7.922379016876221, 0.00800000037997961]\n"
          ]
        }
      ],
      "source": [
        "print(\"Evaluate on test data\")\n",
        "results = model.evaluate((tows[0].astype(int)), (tows[1].astype(int)))\n",
        "print(\"test loss, test acc:\", results)\n",
        "\n",
        "# Generate predictions (probabilities -- the output of the last layer)\n",
        "# on new data using `predict`"
      ]
    },
    {
      "cell_type": "code",
      "source": [
        "%reset"
      ],
      "metadata": {
        "id": "kJn5on1Slh2-"
      },
      "execution_count": null,
      "outputs": []
    }
  ],
  "metadata": {
    "colab": {
      "name": "HACKS.ipynb",
      "provenance": [],
      "authorship_tag": "ABX9TyOGkm3LbjWDROs+di1tlOuv",
      "include_colab_link": true
    },
    "kernelspec": {
      "display_name": "Python 3",
      "name": "python3"
    },
    "language_info": {
      "name": "python"
    }
  },
  "nbformat": 4,
  "nbformat_minor": 0
}